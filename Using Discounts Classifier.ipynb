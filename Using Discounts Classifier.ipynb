{
 "cells": [
  {
   "cell_type": "code",
   "execution_count": 1,
   "metadata": {
    "collapsed": true
   },
   "outputs": [],
   "source": [
    "#http://scikit-learn.org/stable/auto_examples/tree/plot_iris.html#sphx-glr-auto-examples-tree-plot-iris-py\n",
    "import numpy as np\n",
    "\n",
    "%matplotlib inline\n",
    "import matplotlib.pyplot as plt\n",
    "\n",
    "import pandas as pd\n",
    "\n",
    "from sklearn import tree"
   ]
  },
  {
   "cell_type": "code",
   "execution_count": 2,
   "metadata": {
    "collapsed": false
   },
   "outputs": [
    {
     "name": "stderr",
     "output_type": "stream",
     "text": [
      "/usr/local/lib/python3.5/site-packages/IPython/core/interactiveshell.py:2723: DtypeWarning: Columns (30,38,43,50,52,53,54,56,57,58,59,60,62,63,64,76,77,87) have mixed types. Specify dtype option on import or set low_memory=False.\n",
      "  interactivity=interactivity, compiler=compiler, result=result)\n"
     ]
    }
   ],
   "source": [
    "recent = pd.read_csv(\"recent.csv\")"
   ]
  },
  {
   "cell_type": "code",
   "execution_count": 3,
   "metadata": {
    "collapsed": false
   },
   "outputs": [
    {
     "data": {
      "text/plain": [
       "Index(['First name', 'Last name', 'Name', 'Conversation Rating', 'Email',\n",
       "       'Phone', 'User ID', 'First Seen (MDT)', 'Signed up (MDT)',\n",
       "       'Last seen (MDT)', 'Last contacted (MDT)', 'Last heard from (MDT)',\n",
       "       'Web sessions', 'Country', 'Region', 'City', 'Timezone',\n",
       "       'Browser Language', 'Language Override', 'Browser', 'Browser Version',\n",
       "       'OS', 'Twitter Followers', 'Job Title', 'Segment', 'Tag',\n",
       "       'Unsubscribed from Emails', 'Marked email as spam', 'Has hard bounced',\n",
       "       'id', 'billed_in_hub', 'country', 'created_at (MDT)', 'currency',\n",
       "       'description', 'avatar', 'domain', 'email', 'free',\n",
       "       'last_logged_in_at (MDT)', 'login_count', 'monthly_spend', 'name',\n",
       "       'needs_plan_restriction', 'orders_count', 'plan', 'products_count',\n",
       "       'subdomain', 'theme', 'time_zone', 'under_maintenance',\n",
       "       'unsubscribed_from_newsletter', 'using_artists', 'using_custom_domain',\n",
       "       'using_custom_html', 'using_customized_order_confirmations',\n",
       "       'using_discounts', 'using_google_analytics', 'using_inventory',\n",
       "       'using_order_confirmations', 'using_order_notifications',\n",
       "       'using_pulley', 'using_seamless_checkout', 'using_shipping_status',\n",
       "       'using_tax', 'last_order_completed_at (MDT)', 'website',\n",
       "       'admin_locked_at (MDT)', 'store_front_locked_at (MDT)',\n",
       "       'closed_at (MDT)', 'job_title', 'support_fort_url',\n",
       "       'total_unread_count', 'visitToken', 'uniqToken', 'needs_pulley_relink',\n",
       "       'using_checkout', 'using_custo', 'intercom_id', 'push_enabled',\n",
       "       'a_record_domains', 'Last seen on iOS (MDT)', 'iOS sessions',\n",
       "       'iOS App version', 'iOS Device', 'iOS OS version',\n",
       "       'Enabled Push Messaging', 'Is Mobile Unidentified', 'Company name',\n",
       "       'Company ID', 'Company last seen (MDT)', 'Company created at (MDT)',\n",
       "       'Users', 'Company web sessions', 'Plan', 'Monthly Spend',\n",
       "       'Company Segment', 'Company tag'],\n",
       "      dtype='object')"
      ]
     },
     "execution_count": 3,
     "metadata": {},
     "output_type": "execute_result"
    }
   ],
   "source": [
    "recent.columns"
   ]
  },
  {
   "cell_type": "code",
   "execution_count": 4,
   "metadata": {
    "collapsed": false
   },
   "outputs": [
    {
     "data": {
      "text/plain": [
       "(109304, 98)"
      ]
     },
     "execution_count": 4,
     "metadata": {},
     "output_type": "execute_result"
    }
   ],
   "source": [
    "recent.shape"
   ]
  },
  {
   "cell_type": "code",
   "execution_count": 5,
   "metadata": {
    "collapsed": false
   },
   "outputs": [
    {
     "data": {
      "text/plain": [
       "count     109278\n",
       "unique         2\n",
       "top        False\n",
       "freq       79900\n",
       "Name: using_discounts, dtype: object"
      ]
     },
     "execution_count": 5,
     "metadata": {},
     "output_type": "execute_result"
    }
   ],
   "source": [
    "recent['using_discounts'].describe()"
   ]
  },
  {
   "cell_type": "code",
   "execution_count": 6,
   "metadata": {
    "collapsed": false
   },
   "outputs": [],
   "source": [
    "y = [ 1 if x == True else 0 for x in recent['using_discounts']]"
   ]
  },
  {
   "cell_type": "code",
   "execution_count": 7,
   "metadata": {
    "collapsed": false
   },
   "outputs": [
    {
     "data": {
      "text/html": [
       "<div>\n",
       "<table border=\"1\" class=\"dataframe\">\n",
       "  <thead>\n",
       "    <tr style=\"text-align: right;\">\n",
       "      <th></th>\n",
       "      <th>theme</th>\n",
       "      <th>plan</th>\n",
       "      <th>products_count</th>\n",
       "      <th>login_count</th>\n",
       "      <th>Browser</th>\n",
       "      <th>Timezone</th>\n",
       "    </tr>\n",
       "  </thead>\n",
       "  <tbody>\n",
       "    <tr>\n",
       "      <th>0</th>\n",
       "      <td>Neat</td>\n",
       "      <td>Diamond</td>\n",
       "      <td>96.0</td>\n",
       "      <td>999.0</td>\n",
       "      <td>safari</td>\n",
       "      <td>America/New_York</td>\n",
       "    </tr>\n",
       "    <tr>\n",
       "      <th>1</th>\n",
       "      <td>Luna</td>\n",
       "      <td>Platinum</td>\n",
       "      <td>24.0</td>\n",
       "      <td>517.0</td>\n",
       "      <td>safari</td>\n",
       "      <td>America/Los_Angeles</td>\n",
       "    </tr>\n",
       "    <tr>\n",
       "      <th>2</th>\n",
       "      <td>Sidecar</td>\n",
       "      <td>Platinum</td>\n",
       "      <td>25.0</td>\n",
       "      <td>48.0</td>\n",
       "      <td>firefox</td>\n",
       "      <td>America/New_York</td>\n",
       "    </tr>\n",
       "    <tr>\n",
       "      <th>3</th>\n",
       "      <td>Neat</td>\n",
       "      <td>Platinum</td>\n",
       "      <td>25.0</td>\n",
       "      <td>288.0</td>\n",
       "      <td>chrome</td>\n",
       "      <td>Asia/Phnom_Penh</td>\n",
       "    </tr>\n",
       "    <tr>\n",
       "      <th>4</th>\n",
       "      <td>Sexy</td>\n",
       "      <td>Gold</td>\n",
       "      <td>5.0</td>\n",
       "      <td>601.0</td>\n",
       "      <td>safari</td>\n",
       "      <td>America/New_York</td>\n",
       "    </tr>\n",
       "    <tr>\n",
       "      <th>5</th>\n",
       "      <td>Luna</td>\n",
       "      <td>Platinum</td>\n",
       "      <td>9.0</td>\n",
       "      <td>164.0</td>\n",
       "      <td>chrome</td>\n",
       "      <td>America/New_York</td>\n",
       "    </tr>\n",
       "    <tr>\n",
       "      <th>6</th>\n",
       "      <td>Luna</td>\n",
       "      <td>Gold</td>\n",
       "      <td>5.0</td>\n",
       "      <td>204.0</td>\n",
       "      <td>chrome</td>\n",
       "      <td>America/New_York</td>\n",
       "    </tr>\n",
       "    <tr>\n",
       "      <th>7</th>\n",
       "      <td>Sidecar</td>\n",
       "      <td>Gold</td>\n",
       "      <td>5.0</td>\n",
       "      <td>107.0</td>\n",
       "      <td>chrome</td>\n",
       "      <td>America/New_York</td>\n",
       "    </tr>\n",
       "    <tr>\n",
       "      <th>8</th>\n",
       "      <td>Sidecar</td>\n",
       "      <td>Platinum</td>\n",
       "      <td>2.0</td>\n",
       "      <td>109.0</td>\n",
       "      <td>chrome</td>\n",
       "      <td>America/Chicago</td>\n",
       "    </tr>\n",
       "    <tr>\n",
       "      <th>9</th>\n",
       "      <td>Sidecar</td>\n",
       "      <td>Platinum</td>\n",
       "      <td>16.0</td>\n",
       "      <td>152.0</td>\n",
       "      <td>chrome</td>\n",
       "      <td>America/Chicago</td>\n",
       "    </tr>\n",
       "  </tbody>\n",
       "</table>\n",
       "</div>"
      ],
      "text/plain": [
       "     theme      plan  products_count  login_count  Browser  \\\n",
       "0     Neat   Diamond            96.0        999.0   safari   \n",
       "1     Luna  Platinum            24.0        517.0   safari   \n",
       "2  Sidecar  Platinum            25.0         48.0  firefox   \n",
       "3     Neat  Platinum            25.0        288.0   chrome   \n",
       "4     Sexy      Gold             5.0        601.0   safari   \n",
       "5     Luna  Platinum             9.0        164.0   chrome   \n",
       "6     Luna      Gold             5.0        204.0   chrome   \n",
       "7  Sidecar      Gold             5.0        107.0   chrome   \n",
       "8  Sidecar  Platinum             2.0        109.0   chrome   \n",
       "9  Sidecar  Platinum            16.0        152.0   chrome   \n",
       "\n",
       "              Timezone  \n",
       "0     America/New_York  \n",
       "1  America/Los_Angeles  \n",
       "2     America/New_York  \n",
       "3      Asia/Phnom_Penh  \n",
       "4     America/New_York  \n",
       "5     America/New_York  \n",
       "6     America/New_York  \n",
       "7     America/New_York  \n",
       "8      America/Chicago  \n",
       "9      America/Chicago  "
      ]
     },
     "execution_count": 7,
     "metadata": {},
     "output_type": "execute_result"
    }
   ],
   "source": [
    "recent[['theme', 'plan', 'products_count', 'login_count', 'Browser','Timezone']][0:10]"
   ]
  },
  {
   "cell_type": "code",
   "execution_count": 8,
   "metadata": {
    "collapsed": false
   },
   "outputs": [],
   "source": [
    "#X = recent[['theme', 'plan', 'products_count', 'login_count', 'Browser','Timezone']]\n",
    "X = recent[['products_count', 'login_count']]"
   ]
  },
  {
   "cell_type": "code",
   "execution_count": 9,
   "metadata": {
    "collapsed": false
   },
   "outputs": [],
   "source": [
    "X = pd.concat([X, pd.get_dummies(recent['theme']),pd.get_dummies(recent['plan']),\n",
    "               pd.get_dummies(recent['Browser']),pd.get_dummies(recent['Timezone'])],\n",
    "             axis=1)"
   ]
  },
  {
   "cell_type": "code",
   "execution_count": 10,
   "metadata": {
    "collapsed": true
   },
   "outputs": [],
   "source": [
    "X = X.fillna(0)"
   ]
  },
  {
   "cell_type": "code",
   "execution_count": 11,
   "metadata": {
    "collapsed": false
   },
   "outputs": [
    {
     "data": {
      "text/plain": [
       "Index(['products_count', 'login_count', 'Big Cartel Shop', 'Blocks', 'Foundry',\n",
       "       'Good Vibes', 'Luna', 'Lunch Break', 'Neat', 'Nova',\n",
       "       ...\n",
       "       'Pacific/Auckland', 'Pacific/Chatham', 'Pacific/Fiji', 'Pacific/Guam',\n",
       "       'Pacific/Honolulu', 'Pacific/Noumea', 'Pacific/Port_Moresby',\n",
       "       'Pacific/Saipan', 'Pacific/Samoa', 'US/Samoa'],\n",
       "      dtype='object', length=266)"
      ]
     },
     "execution_count": 11,
     "metadata": {},
     "output_type": "execute_result"
    }
   ],
   "source": [
    "X.columns"
   ]
  },
  {
   "cell_type": "code",
   "execution_count": 12,
   "metadata": {
    "collapsed": false
   },
   "outputs": [],
   "source": [
    "clf = tree.DecisionTreeClassifier().fit(X, y)"
   ]
  },
  {
   "cell_type": "code",
   "execution_count": 14,
   "metadata": {
    "collapsed": false
   },
   "outputs": [
    {
     "data": {
      "text/plain": [
       "0.99474859108541314"
      ]
     },
     "execution_count": 14,
     "metadata": {},
     "output_type": "execute_result"
    }
   ],
   "source": [
    "clf.score(X,y)"
   ]
  },
  {
   "cell_type": "code",
   "execution_count": 15,
   "metadata": {
    "collapsed": false
   },
   "outputs": [
    {
     "data": {
      "text/plain": [
       "56"
      ]
     },
     "execution_count": 15,
     "metadata": {},
     "output_type": "execute_result"
    }
   ],
   "source": [
    "clf.tree_.max_depth"
   ]
  },
  {
   "cell_type": "code",
   "execution_count": 16,
   "metadata": {
    "collapsed": true
   },
   "outputs": [],
   "source": [
    "clf2 = tree.DecisionTreeClassifier(max_depth=20).fit(X, y)"
   ]
  },
  {
   "cell_type": "code",
   "execution_count": 17,
   "metadata": {
    "collapsed": false
   },
   "outputs": [
    {
     "data": {
      "text/plain": [
       "0.91351643123764914"
      ]
     },
     "execution_count": 17,
     "metadata": {},
     "output_type": "execute_result"
    }
   ],
   "source": [
    "clf2.score(X,y)"
   ]
  },
  {
   "cell_type": "code",
   "execution_count": 18,
   "metadata": {
    "collapsed": false
   },
   "outputs": [
    {
     "data": {
      "text/html": [
       "<div>\n",
       "<table border=\"1\" class=\"dataframe\">\n",
       "  <thead>\n",
       "    <tr style=\"text-align: right;\">\n",
       "      <th></th>\n",
       "      <th>products_count</th>\n",
       "      <th>login_count</th>\n",
       "      <th>Big Cartel Shop</th>\n",
       "      <th>Blocks</th>\n",
       "      <th>Foundry</th>\n",
       "      <th>Good Vibes</th>\n",
       "      <th>Luna</th>\n",
       "      <th>Lunch Break</th>\n",
       "      <th>Neat</th>\n",
       "      <th>Nova</th>\n",
       "      <th>...</th>\n",
       "      <th>Pacific/Auckland</th>\n",
       "      <th>Pacific/Chatham</th>\n",
       "      <th>Pacific/Fiji</th>\n",
       "      <th>Pacific/Guam</th>\n",
       "      <th>Pacific/Honolulu</th>\n",
       "      <th>Pacific/Noumea</th>\n",
       "      <th>Pacific/Port_Moresby</th>\n",
       "      <th>Pacific/Saipan</th>\n",
       "      <th>Pacific/Samoa</th>\n",
       "      <th>US/Samoa</th>\n",
       "    </tr>\n",
       "  </thead>\n",
       "  <tbody>\n",
       "    <tr>\n",
       "      <th>0</th>\n",
       "      <td>96.0</td>\n",
       "      <td>999.0</td>\n",
       "      <td>0</td>\n",
       "      <td>0</td>\n",
       "      <td>0</td>\n",
       "      <td>0</td>\n",
       "      <td>0</td>\n",
       "      <td>0</td>\n",
       "      <td>1</td>\n",
       "      <td>0</td>\n",
       "      <td>...</td>\n",
       "      <td>0</td>\n",
       "      <td>0</td>\n",
       "      <td>0</td>\n",
       "      <td>0</td>\n",
       "      <td>0</td>\n",
       "      <td>0</td>\n",
       "      <td>0</td>\n",
       "      <td>0</td>\n",
       "      <td>0</td>\n",
       "      <td>0</td>\n",
       "    </tr>\n",
       "    <tr>\n",
       "      <th>1</th>\n",
       "      <td>24.0</td>\n",
       "      <td>517.0</td>\n",
       "      <td>0</td>\n",
       "      <td>0</td>\n",
       "      <td>0</td>\n",
       "      <td>0</td>\n",
       "      <td>1</td>\n",
       "      <td>0</td>\n",
       "      <td>0</td>\n",
       "      <td>0</td>\n",
       "      <td>...</td>\n",
       "      <td>0</td>\n",
       "      <td>0</td>\n",
       "      <td>0</td>\n",
       "      <td>0</td>\n",
       "      <td>0</td>\n",
       "      <td>0</td>\n",
       "      <td>0</td>\n",
       "      <td>0</td>\n",
       "      <td>0</td>\n",
       "      <td>0</td>\n",
       "    </tr>\n",
       "    <tr>\n",
       "      <th>2</th>\n",
       "      <td>25.0</td>\n",
       "      <td>48.0</td>\n",
       "      <td>0</td>\n",
       "      <td>0</td>\n",
       "      <td>0</td>\n",
       "      <td>0</td>\n",
       "      <td>0</td>\n",
       "      <td>0</td>\n",
       "      <td>0</td>\n",
       "      <td>0</td>\n",
       "      <td>...</td>\n",
       "      <td>0</td>\n",
       "      <td>0</td>\n",
       "      <td>0</td>\n",
       "      <td>0</td>\n",
       "      <td>0</td>\n",
       "      <td>0</td>\n",
       "      <td>0</td>\n",
       "      <td>0</td>\n",
       "      <td>0</td>\n",
       "      <td>0</td>\n",
       "    </tr>\n",
       "    <tr>\n",
       "      <th>3</th>\n",
       "      <td>25.0</td>\n",
       "      <td>288.0</td>\n",
       "      <td>0</td>\n",
       "      <td>0</td>\n",
       "      <td>0</td>\n",
       "      <td>0</td>\n",
       "      <td>0</td>\n",
       "      <td>0</td>\n",
       "      <td>1</td>\n",
       "      <td>0</td>\n",
       "      <td>...</td>\n",
       "      <td>0</td>\n",
       "      <td>0</td>\n",
       "      <td>0</td>\n",
       "      <td>0</td>\n",
       "      <td>0</td>\n",
       "      <td>0</td>\n",
       "      <td>0</td>\n",
       "      <td>0</td>\n",
       "      <td>0</td>\n",
       "      <td>0</td>\n",
       "    </tr>\n",
       "  </tbody>\n",
       "</table>\n",
       "<p>4 rows × 266 columns</p>\n",
       "</div>"
      ],
      "text/plain": [
       "   products_count  login_count  Big Cartel Shop  Blocks  Foundry  Good Vibes  \\\n",
       "0            96.0        999.0                0       0        0           0   \n",
       "1            24.0        517.0                0       0        0           0   \n",
       "2            25.0         48.0                0       0        0           0   \n",
       "3            25.0        288.0                0       0        0           0   \n",
       "\n",
       "   Luna  Lunch Break  Neat  Nova    ...     Pacific/Auckland  Pacific/Chatham  \\\n",
       "0     0            0     1     0    ...                    0                0   \n",
       "1     1            0     0     0    ...                    0                0   \n",
       "2     0            0     0     0    ...                    0                0   \n",
       "3     0            0     1     0    ...                    0                0   \n",
       "\n",
       "   Pacific/Fiji  Pacific/Guam  Pacific/Honolulu  Pacific/Noumea  \\\n",
       "0             0             0                 0               0   \n",
       "1             0             0                 0               0   \n",
       "2             0             0                 0               0   \n",
       "3             0             0                 0               0   \n",
       "\n",
       "   Pacific/Port_Moresby  Pacific/Saipan  Pacific/Samoa  US/Samoa  \n",
       "0                     0               0              0         0  \n",
       "1                     0               0              0         0  \n",
       "2                     0               0              0         0  \n",
       "3                     0               0              0         0  \n",
       "\n",
       "[4 rows x 266 columns]"
      ]
     },
     "execution_count": 18,
     "metadata": {},
     "output_type": "execute_result"
    }
   ],
   "source": [
    "X.ix[0:3]"
   ]
  },
  {
   "cell_type": "code",
   "execution_count": 19,
   "metadata": {
    "collapsed": true
   },
   "outputs": [],
   "source": [
    "Xtrain = X.ix[0:30000]"
   ]
  },
  {
   "cell_type": "code",
   "execution_count": 20,
   "metadata": {
    "collapsed": true
   },
   "outputs": [],
   "source": [
    "Xtest =X.ix[30000:]"
   ]
  },
  {
   "cell_type": "code",
   "execution_count": 21,
   "metadata": {
    "collapsed": false
   },
   "outputs": [],
   "source": [
    "ytrain = y[0:30001] #wtf pandas. WHAT. THE. F"
   ]
  },
  {
   "cell_type": "code",
   "execution_count": 22,
   "metadata": {
    "collapsed": false
   },
   "outputs": [],
   "source": [
    "ytest = y[30000:]"
   ]
  },
  {
   "cell_type": "code",
   "execution_count": 23,
   "metadata": {
    "collapsed": false
   },
   "outputs": [],
   "source": [
    "clf3 = tree.DecisionTreeClassifier(max_depth=20).fit(Xtrain, ytrain)"
   ]
  },
  {
   "cell_type": "code",
   "execution_count": 24,
   "metadata": {
    "collapsed": false
   },
   "outputs": [
    {
     "data": {
      "text/plain": [
       "0.94656844771840942"
      ]
     },
     "execution_count": 24,
     "metadata": {},
     "output_type": "execute_result"
    }
   ],
   "source": [
    "clf3.score(Xtrain, ytrain)"
   ]
  },
  {
   "cell_type": "code",
   "execution_count": 25,
   "metadata": {
    "collapsed": false
   },
   "outputs": [
    {
     "data": {
      "text/plain": [
       "0.82864672652073035"
      ]
     },
     "execution_count": 25,
     "metadata": {},
     "output_type": "execute_result"
    }
   ],
   "source": [
    "clf3.score(Xtest, ytest)"
   ]
  },
  {
   "cell_type": "code",
   "execution_count": 26,
   "metadata": {
    "collapsed": false
   },
   "outputs": [],
   "source": [
    "import pydotplus "
   ]
  },
  {
   "cell_type": "code",
   "execution_count": 27,
   "metadata": {
    "collapsed": false
   },
   "outputs": [],
   "source": [
    "tree.export_graphviz(clf3, out_file=\"clf_discount.dot\", \n",
    "                         feature_names=X.columns,  \n",
    "                         filled=True, rounded=True)\n",
    "# pause to look at terrifying pdf"
   ]
  },
  {
   "cell_type": "code",
   "execution_count": 34,
   "metadata": {
    "collapsed": false
   },
   "outputs": [
    {
     "data": {
      "text/plain": [
       "array([  5.23761902e-01,   2.09428215e-01,   0.00000000e+00,\n",
       "         9.51285575e-04,   4.68532307e-03,   3.21155296e-03,\n",
       "         1.09214779e-02,   1.02421895e-02,   9.15089385e-03,\n",
       "         3.67829370e-03,   3.93968310e-03,   4.52972670e-03,\n",
       "         3.58347872e-03,   6.41800979e-03,   2.19703707e-03,\n",
       "         4.11349610e-03,   4.50800534e-03,   2.79032745e-02,\n",
       "         3.44109972e-03,   1.60308918e-03,   5.64767312e-05,\n",
       "         0.00000000e+00,   1.42396085e-02,   5.42834953e-03,\n",
       "         7.40807427e-03,   4.79330691e-03,   0.00000000e+00,\n",
       "         3.32851821e-04,   0.00000000e+00,   0.00000000e+00,\n",
       "         1.34845238e-02,   0.00000000e+00,   0.00000000e+00,\n",
       "         3.38215788e-05,   0.00000000e+00,   0.00000000e+00,\n",
       "         0.00000000e+00,   0.00000000e+00,   3.11429501e-05,\n",
       "         2.85846639e-04,   5.95061482e-05,   1.67689529e-05,\n",
       "         0.00000000e+00,   0.00000000e+00,   1.43622315e-04,\n",
       "         0.00000000e+00,   0.00000000e+00,   0.00000000e+00,\n",
       "         0.00000000e+00,   0.00000000e+00,   0.00000000e+00,\n",
       "         0.00000000e+00,   0.00000000e+00,   0.00000000e+00,\n",
       "         0.00000000e+00,   1.82809147e-05,   9.25179200e-05,\n",
       "         0.00000000e+00,   3.20834423e-05,   8.52619758e-05,\n",
       "         2.41840605e-05,   0.00000000e+00,   0.00000000e+00,\n",
       "         2.36134234e-05,   0.00000000e+00,   0.00000000e+00,\n",
       "         0.00000000e+00,   0.00000000e+00,   3.14845646e-05,\n",
       "         0.00000000e+00,   1.35572433e-04,   5.33776904e-05,\n",
       "         0.00000000e+00,   0.00000000e+00,   1.03824178e-02,\n",
       "         3.19286907e-05,   0.00000000e+00,   3.80777386e-03,\n",
       "         0.00000000e+00,   1.15278934e-03,   2.08737445e-05,\n",
       "         0.00000000e+00,   0.00000000e+00,   2.79451066e-05,\n",
       "         0.00000000e+00,   0.00000000e+00,   0.00000000e+00,\n",
       "         0.00000000e+00,   2.68727650e-04,   2.45334269e-05,\n",
       "         0.00000000e+00,   1.33886374e-03,   7.95002316e-05,\n",
       "         0.00000000e+00,   3.10748036e-05,   1.24260897e-02,\n",
       "         0.00000000e+00,   0.00000000e+00,   0.00000000e+00,\n",
       "         2.65230018e-05,   0.00000000e+00,   4.23444454e-04,\n",
       "         2.38102020e-05,   3.16385652e-05,   1.24677587e-03,\n",
       "         0.00000000e+00,   1.54796421e-02,   0.00000000e+00,\n",
       "         0.00000000e+00,   1.87224705e-03,   0.00000000e+00,\n",
       "         0.00000000e+00,   0.00000000e+00,   4.56704412e-04,\n",
       "         0.00000000e+00,   0.00000000e+00,   1.34612780e-04,\n",
       "         2.47564100e-05,   3.11518178e-04,   0.00000000e+00,\n",
       "         0.00000000e+00,   0.00000000e+00,   4.46366737e-05,\n",
       "         0.00000000e+00,   0.00000000e+00,   3.51685433e-05,\n",
       "         2.81429019e-03,   0.00000000e+00,   1.91716084e-03,\n",
       "         0.00000000e+00,   1.69050746e-04,   0.00000000e+00,\n",
       "         0.00000000e+00,   0.00000000e+00,   0.00000000e+00,\n",
       "         0.00000000e+00,   0.00000000e+00,   0.00000000e+00,\n",
       "         0.00000000e+00,   2.53178623e-04,   0.00000000e+00,\n",
       "         2.39635188e-05,   5.77735993e-05,   0.00000000e+00,\n",
       "         4.14439109e-04,   3.39233303e-05,   0.00000000e+00,\n",
       "         2.84855743e-05,   0.00000000e+00,   9.04116204e-05,\n",
       "         0.00000000e+00,   0.00000000e+00,   3.66378368e-04,\n",
       "         0.00000000e+00,   8.52041177e-05,   3.34451301e-04,\n",
       "         1.37588302e-04,   0.00000000e+00,   0.00000000e+00,\n",
       "         0.00000000e+00,   8.98116552e-05,   0.00000000e+00,\n",
       "         3.36403921e-05,   0.00000000e+00,   3.45740205e-05,\n",
       "         2.15311933e-04,   9.03086816e-05,   0.00000000e+00,\n",
       "         9.31436592e-05,   0.00000000e+00,   1.15109158e-04,\n",
       "         0.00000000e+00,   0.00000000e+00,   0.00000000e+00,\n",
       "         2.29326761e-05,   2.73585721e-04,   3.42223528e-05,\n",
       "         6.55854100e-04,   5.32598223e-04,   0.00000000e+00,\n",
       "         7.67189826e-04,   5.71132694e-05,   3.23713962e-05,\n",
       "         0.00000000e+00,   2.56333298e-05,   0.00000000e+00,\n",
       "         2.36134234e-05,   7.80387573e-05,   0.00000000e+00,\n",
       "         0.00000000e+00,   3.36934619e-05,   9.09397572e-05,\n",
       "         2.52701882e-04,   3.89072556e-03,   4.07215092e-05,\n",
       "         3.53713589e-03,   1.63955386e-03,   3.63320011e-04,\n",
       "         5.30554313e-03,   1.80398550e-03,   8.13495877e-05,\n",
       "         1.23344918e-03,   0.00000000e+00,   4.79116229e-04,\n",
       "         1.06886711e-04,   2.96831981e-03,   1.46387908e-04,\n",
       "         1.34613948e-03,   1.17401335e-04,   2.33290962e-04,\n",
       "         0.00000000e+00,   1.23114274e-03,   7.16425328e-04,\n",
       "         0.00000000e+00,   0.00000000e+00,   3.61095955e-04,\n",
       "         0.00000000e+00,   7.71886665e-05,   0.00000000e+00,\n",
       "         0.00000000e+00,   4.06968866e-04,   1.58963328e-04,\n",
       "         1.20865983e-02,   1.29123300e-05,   2.69016772e-03,\n",
       "         3.08856734e-05,   2.17688732e-05,   0.00000000e+00,\n",
       "         1.58357436e-04,   6.28696417e-04,   3.88037136e-03,\n",
       "         0.00000000e+00,   3.00651407e-04,   4.65460022e-05,\n",
       "         2.48220936e-03,   0.00000000e+00,   0.00000000e+00,\n",
       "         2.42399974e-05,   0.00000000e+00,   0.00000000e+00,\n",
       "         4.33321409e-05,   1.23878291e-03,   2.51876517e-05,\n",
       "         0.00000000e+00,   0.00000000e+00,   0.00000000e+00,\n",
       "         3.94522128e-04,   3.43554707e-05,   0.00000000e+00,\n",
       "         5.06199155e-04,   1.26557974e-04,   2.45782730e-05,\n",
       "         1.15632214e-03,   0.00000000e+00,   0.00000000e+00,\n",
       "         0.00000000e+00,   1.58389670e-03,   5.38330491e-05,\n",
       "         0.00000000e+00,   1.54196134e-04,   9.50879395e-04,\n",
       "         0.00000000e+00,   0.00000000e+00,   0.00000000e+00,\n",
       "         3.78474235e-05,   0.00000000e+00])"
      ]
     },
     "execution_count": 34,
     "metadata": {},
     "output_type": "execute_result"
    }
   ],
   "source": [
    "clf.feature_importances_"
   ]
  },
  {
   "cell_type": "code",
   "execution_count": 28,
   "metadata": {
    "collapsed": false
   },
   "outputs": [
    {
     "data": {
      "text/plain": [
       "0"
      ]
     },
     "execution_count": 28,
     "metadata": {},
     "output_type": "execute_result"
    }
   ],
   "source": [
    "clf3.feature_importances_.argmax()"
   ]
  },
  {
   "cell_type": "code",
   "execution_count": 29,
   "metadata": {
    "collapsed": true
   },
   "outputs": [],
   "source": [
    "#http://stackoverflow.com/questions/6910641/how-to-get-indices-of-n-maximum-values-in-a-numpy-array\n",
    "ind = np.argpartition(clf3.feature_importances_, -10)[-10:]"
   ]
  },
  {
   "cell_type": "code",
   "execution_count": 30,
   "metadata": {
    "collapsed": false
   },
   "outputs": [],
   "source": [
    "#http://stackoverflow.com/questions/6771428/most-efficient-way-to-reverse-a-numpy-array\n",
    "ind2 = np.flipud(ind[np.argsort(clf3.feature_importances_[ind])])"
   ]
  },
  {
   "cell_type": "code",
   "execution_count": 31,
   "metadata": {
    "collapsed": false
   },
   "outputs": [
    {
     "data": {
      "text/plain": [
       "array([  0,   1,  17,  30,  22, 106,   6, 222,  95,   8])"
      ]
     },
     "execution_count": 31,
     "metadata": {},
     "output_type": "execute_result"
    }
   ],
   "source": [
    "ind2"
   ]
  },
  {
   "cell_type": "code",
   "execution_count": 32,
   "metadata": {
    "collapsed": false
   },
   "outputs": [
    {
     "data": {
      "text/plain": [
       "Index(['products_count', 'login_count', 'Gold', 'safari', 'chrome',\n",
       "       'America/New_York', 'Luna', 'Europe/London', 'America/Los_Angeles',\n",
       "       'Neat'],\n",
       "      dtype='object')"
      ]
     },
     "execution_count": 32,
     "metadata": {},
     "output_type": "execute_result"
    }
   ],
   "source": [
    "X.columns[ind2]"
   ]
  },
  {
   "cell_type": "code",
   "execution_count": 33,
   "metadata": {
    "collapsed": false
   },
   "outputs": [
    {
     "data": {
      "text/plain": [
       "array([ 0.59730929,  0.17682487,  0.03422163,  0.01046997,  0.01025197,\n",
       "        0.01020831,  0.00884802,  0.00847218,  0.00804267,  0.00763976])"
      ]
     },
     "execution_count": 33,
     "metadata": {},
     "output_type": "execute_result"
    }
   ],
   "source": [
    "clf3.feature_importances_[ind2]"
   ]
  },
  {
   "cell_type": "code",
   "execution_count": null,
   "metadata": {
    "collapsed": true
   },
   "outputs": [],
   "source": []
  }
 ],
 "metadata": {
  "kernelspec": {
   "display_name": "Python 3",
   "language": "python",
   "name": "python3"
  },
  "language_info": {
   "codemirror_mode": {
    "name": "ipython",
    "version": 3
   },
   "file_extension": ".py",
   "mimetype": "text/x-python",
   "name": "python",
   "nbconvert_exporter": "python",
   "pygments_lexer": "ipython3",
   "version": "3.5.1"
  }
 },
 "nbformat": 4,
 "nbformat_minor": 0
}
